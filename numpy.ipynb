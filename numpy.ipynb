{
 "cells": [
  {
   "cell_type": "markdown",
   "source": [
    "Source: https://www.w3schools.com/python/numpy/"
   ],
   "metadata": {
    "collapsed": false
   },
   "id": "a74af15236ccdaae"
  },
  {
   "cell_type": "code",
   "execution_count": 4,
   "outputs": [
    {
     "name": "stdout",
     "output_type": "stream",
     "text": [
      "1\n"
     ]
    }
   ],
   "source": [
    "import numpy as np\n",
    "\n",
    "arr = np.array([1, 2, 3, 4])\n",
    "print(arr[0])"
   ],
   "metadata": {
    "collapsed": false,
    "ExecuteTime": {
     "end_time": "2023-12-20T21:27:44.009303Z",
     "start_time": "2023-12-20T21:27:43.994278Z"
    }
   },
   "id": "cb7f6d1cb94832ca"
  },
  {
   "cell_type": "code",
   "execution_count": 6,
   "outputs": [
    {
     "name": "stdout",
     "output_type": "stream",
     "text": [
      "5\n"
     ]
    }
   ],
   "source": [
    "arr = np.array([1, 2, 3, 4])\n",
    "print(arr[0] + arr[-1])"
   ],
   "metadata": {
    "collapsed": false,
    "ExecuteTime": {
     "end_time": "2023-12-20T21:28:15.897941Z",
     "start_time": "2023-12-20T21:28:15.892218Z"
    }
   },
   "id": "5cfe28f1d27a2dcd"
  },
  {
   "cell_type": "code",
   "execution_count": 11,
   "outputs": [
    {
     "name": "stdout",
     "output_type": "stream",
     "text": [
      "2nd element on 1st row:  2\n",
      "2nd element on 1st row:  2\n"
     ]
    }
   ],
   "source": [
    "arr = np.array([[1,2,3,4,5], [6,7,8,9,10]])\n",
    "print('2nd element on 1st row: ', arr[0, 1])\n",
    "print('2nd element on 1st row: ', arr[0][1])"
   ],
   "metadata": {
    "collapsed": false,
    "ExecuteTime": {
     "end_time": "2023-12-20T21:29:44.113502Z",
     "start_time": "2023-12-20T21:29:44.106486Z"
    }
   },
   "id": "c19ae5960e65cd1d"
  },
  {
   "cell_type": "code",
   "execution_count": 12,
   "outputs": [
    {
     "name": "stdout",
     "output_type": "stream",
     "text": [
      "5th element on 2nd row:  10\n"
     ]
    }
   ],
   "source": [
    "print('5th element on 2nd row: ', arr[1, 4])"
   ],
   "metadata": {
    "collapsed": false,
    "ExecuteTime": {
     "end_time": "2023-12-20T21:30:17.378986Z",
     "start_time": "2023-12-20T21:30:17.374150Z"
    }
   },
   "id": "7bef6f02bbccaf2b"
  },
  {
   "cell_type": "code",
   "execution_count": 14,
   "outputs": [
    {
     "name": "stdout",
     "output_type": "stream",
     "text": [
      "6\n"
     ]
    }
   ],
   "source": [
    "# Access 3-D Arrays\n",
    "arr = np.array([[[1, 2, 3], [4, 5, 6]], [[7, 8, 9], [10, 11, 12]]])\n",
    "print(arr[0, 1, 2])"
   ],
   "metadata": {
    "collapsed": false,
    "ExecuteTime": {
     "end_time": "2023-12-20T21:31:16.074615Z",
     "start_time": "2023-12-20T21:31:16.066967Z"
    }
   },
   "id": "56fd8bdcb358c14d"
  },
  {
   "cell_type": "code",
   "execution_count": 13,
   "outputs": [
    {
     "name": "stdout",
     "output_type": "stream",
     "text": [
      "Last element from 2nd dim:  10\n"
     ]
    }
   ],
   "source": [
    "arr = np.array([[1,2,3,4,5], [6,7,8,9,10]])\n",
    "print('Last element from 2nd dim: ', arr[1, -1])"
   ],
   "metadata": {
    "collapsed": false,
    "ExecuteTime": {
     "end_time": "2023-12-20T21:31:14.844866Z",
     "start_time": "2023-12-20T21:31:14.839110Z"
    }
   },
   "id": "3cd3c7a26af93f36"
  },
  {
   "cell_type": "code",
   "execution_count": 16,
   "outputs": [
    {
     "name": "stdout",
     "output_type": "stream",
     "text": [
      "[2 4]\n",
      "[2 3 4 5]\n",
      "[5 6 7]\n",
      "[1 2 3 4]\n",
      "[5 6]\n",
      "[1 3 5 7]\n"
     ]
    }
   ],
   "source": [
    "# We can also define the step, like this: [start:end:step]\n",
    "arr = np.array([1, 2, 3, 4, 5, 6, 7])\n",
    "print(arr[1:5:2])\n",
    "print(arr[1:5])\n",
    "print(arr[4:])\n",
    "print(arr[:4])\n",
    "print(arr[-3:-1])\n",
    "print(arr[::2])"
   ],
   "metadata": {
    "collapsed": false,
    "ExecuteTime": {
     "end_time": "2023-12-20T21:52:12.265387Z",
     "start_time": "2023-12-20T21:52:12.258497Z"
    }
   },
   "id": "bbb4b9959eedff6c"
  },
  {
   "cell_type": "code",
   "execution_count": 23,
   "outputs": [
    {
     "name": "stdout",
     "output_type": "stream",
     "text": [
      "[7 8 9]\n",
      "[3 8]\n",
      "[[2 3 4]\n",
      " [7 8 9]]\n"
     ]
    }
   ],
   "source": [
    "# Slicing 2-D Arrays\n",
    "arr = np.array([[1, 2, 3, 4, 5], [6, 7, 8, 9, 10]])\n",
    "print(arr[1, 1:4])  # From the second element, slice elements from index 1 to index 4 (not included):\n",
    "print(arr[0:2, 2])  # From both elements, return index 2:\n",
    "print(arr[0:2, 1:4])  # From both elements, slice index 1 to index 4 (not included), this will return a 2-D array:"
   ],
   "metadata": {
    "collapsed": false,
    "ExecuteTime": {
     "end_time": "2023-12-20T23:17:10.555510Z",
     "start_time": "2023-12-20T23:17:10.547705Z"
    }
   },
   "id": "b22ac1dd5e254564"
  },
  {
   "cell_type": "markdown",
   "source": [
    "# Data Types in NumPy\n",
    "\n",
    "i - integer\n",
    "b - boolean\n",
    "u - unsigned integer\n",
    "f - float\n",
    "c - complex float\n",
    "m - timedelta\n",
    "M - datetime\n",
    "O - object\n",
    "S - string\n",
    "U - unicode string\n",
    "V - fixed chunk of memory for other type (void)"
   ],
   "metadata": {
    "collapsed": false
   },
   "id": "cae12085992a26d7"
  },
  {
   "cell_type": "code",
   "execution_count": 20,
   "outputs": [
    {
     "name": "stdout",
     "output_type": "stream",
     "text": [
      "int64\n",
      "<U6\n"
     ]
    }
   ],
   "source": [
    "# Get the data type\n",
    "arr = np.array([1, 2, 3, 4])\n",
    "print(arr.dtype)\n",
    "\n",
    "arr = np.array(['apple', 'banana', 'cherry'])\n",
    "print(arr.dtype)"
   ],
   "metadata": {
    "collapsed": false,
    "ExecuteTime": {
     "end_time": "2023-12-20T21:55:35.331865Z",
     "start_time": "2023-12-20T21:55:35.327917Z"
    }
   },
   "id": "f690e27da8aac64b"
  },
  {
   "cell_type": "code",
   "execution_count": 21,
   "outputs": [
    {
     "name": "stdout",
     "output_type": "stream",
     "text": [
      "[b'1' b'2' b'3' b'4']\n",
      "|S1\n"
     ]
    }
   ],
   "source": [
    "# Create an array with data type string:\n",
    "arr = np.array([1, 2, 3, 4], dtype='S')\n",
    "print(arr)\n",
    "print(arr.dtype)"
   ],
   "metadata": {
    "collapsed": false,
    "ExecuteTime": {
     "end_time": "2023-12-20T21:56:02.465315Z",
     "start_time": "2023-12-20T21:56:02.458660Z"
    }
   },
   "id": "4bc0bff8572f6a70"
  },
  {
   "cell_type": "code",
   "execution_count": 24,
   "outputs": [
    {
     "name": "stdout",
     "output_type": "stream",
     "text": [
      "[1 2 3 4]\n",
      "int32\n",
      "[1 2 3 4]\n",
      "int32\n"
     ]
    }
   ],
   "source": [
    "# Create an array with data type 4 bytes integer:\n",
    "arr = np.array([1, 2, 3, 4], dtype='i4')\n",
    "print(arr)\n",
    "print(arr.dtype)\n",
    "\n",
    "arr = np.array([1, 2, 3, 4], dtype='i')\n",
    "print(arr)\n",
    "print(arr.dtype)"
   ],
   "metadata": {
    "collapsed": false,
    "ExecuteTime": {
     "end_time": "2023-12-20T23:17:55.327410Z",
     "start_time": "2023-12-20T23:17:55.322341Z"
    }
   },
   "id": "215242f297051f91"
  },
  {
   "cell_type": "code",
   "execution_count": 27,
   "outputs": [
    {
     "name": "stdout",
     "output_type": "stream",
     "text": [
      "[1 2 3]\n",
      "int32\n",
      "[1 2 3]\n",
      "int64\n",
      "[ True False  True]\n",
      "bool\n"
     ]
    }
   ],
   "source": [
    "# Change data type from float to integer by using 'i' as parameter value\n",
    "arr = np.array([1.1, 2.1, 3.1])\n",
    "new_arr = arr.astype('i')\n",
    "print(new_arr)\n",
    "print(new_arr.dtype)\n",
    "\n",
    "# Change data type from float to integer by using int as parameter value\n",
    "arr = np.array([1.1, 2.1, 3.1])\n",
    "new_arr = arr.astype(int)\n",
    "print(new_arr)\n",
    "print(new_arr.dtype)\n",
    "\n",
    "# Change data type from integer to boolean\n",
    "arr = np.array([1, 0, 3])\n",
    "new_arr = arr.astype(bool)\n",
    "print(new_arr)\n",
    "print(new_arr.dtype)"
   ],
   "metadata": {
    "collapsed": false,
    "ExecuteTime": {
     "end_time": "2023-12-20T23:20:10.551073Z",
     "start_time": "2023-12-20T23:20:10.545251Z"
    }
   },
   "id": "10be309cabbb6c9e"
  },
  {
   "cell_type": "markdown",
   "source": [
    "# The Difference Between Copy and View\n",
    "\n",
    "* The main difference between a copy and a view of an array is that the copy is a new array, and the view is just a\n",
    "view of the original array.\n",
    "* The copy owns the data and any changes made to the copy will not affect original array, and any changes made to the\n",
    "original array will not affect the copy.\n",
    "* The view does not own the data and any changes made to the view will affect the original array, and any changes made\n",
    "to the original array will affect the view."
   ],
   "metadata": {
    "collapsed": false
   },
   "id": "459cd47054ce46a2"
  },
  {
   "cell_type": "code",
   "execution_count": 29,
   "outputs": [
    {
     "name": "stdout",
     "output_type": "stream",
     "text": [
      "[42  2  3  4  5]\n",
      "[ 1  2  3  4 99]\n"
     ]
    }
   ],
   "source": [
    "# Copy\n",
    "arr = np.array([1, 2, 3, 4, 5])\n",
    "x = arr.copy()\n",
    "arr[0] = 42\n",
    "x[-1] = 99\n",
    "print(arr)\n",
    "print(x)"
   ],
   "metadata": {
    "collapsed": false,
    "ExecuteTime": {
     "end_time": "2023-12-20T23:25:27.299627Z",
     "start_time": "2023-12-20T23:25:27.294814Z"
    }
   },
   "id": "dc05f0f8b065610d"
  },
  {
   "cell_type": "code",
   "execution_count": 30,
   "outputs": [
    {
     "name": "stdout",
     "output_type": "stream",
     "text": [
      "[42  2  3  4 99]\n",
      "[42  2  3  4 99]\n"
     ]
    }
   ],
   "source": [
    "# View\n",
    "arr = np.array([1, 2, 3, 4, 5])\n",
    "x = arr.view()\n",
    "arr[0] = 42\n",
    "x[-1] = 99\n",
    "print(arr)\n",
    "print(x)"
   ],
   "metadata": {
    "collapsed": false,
    "ExecuteTime": {
     "end_time": "2023-12-20T23:26:14.968725Z",
     "start_time": "2023-12-20T23:26:14.963735Z"
    }
   },
   "id": "5c5504a3dec8b7aa"
  },
  {
   "cell_type": "markdown",
   "source": [
    "# Check if Array Owns its Data\n",
    "\n",
    "* As mentioned above, copies owns the data, and views does not own the data, but how can we check this?\n",
    "* Every NumPy array has the attribute `base` that returns None if the array owns the data.\n",
    "* Otherwise, the base` attribute refers to the original object."
   ],
   "metadata": {
    "collapsed": false
   },
   "id": "185f05d2ac10bc8e"
  },
  {
   "cell_type": "code",
   "execution_count": 0,
   "outputs": [],
   "source": [
    "arr = np.array([1, 2, 3, 4, 5])\n",
    "\n",
    "x = arr.copy()\n",
    "y = arr.view()\n",
    "\n",
    "print(x.base)  # The copy returns None.\n",
    "print(y.base)  # The view returns the original array."
   ],
   "metadata": {
    "collapsed": false
   },
   "id": "2fe39f9748c589d4"
  },
  {
   "cell_type": "markdown",
   "source": [
    "# Get the Shape of an Array\n",
    "\n",
    "* Arrays in NumPy have an attribute called `shape` that returns a tuple with each index having the number of\n",
    "corresponding elements.\n",
    "* The example above returns `(2, 4)`, which means that the array has 2 dimensions, where the first dimension has 2\n",
    "elements and the second has 4."
   ],
   "metadata": {
    "collapsed": false
   },
   "id": "4a898a23bfb04875"
  },
  {
   "cell_type": "code",
   "execution_count": 32,
   "outputs": [
    {
     "name": "stdout",
     "output_type": "stream",
     "text": [
      "(2, 4)\n"
     ]
    }
   ],
   "source": [
    "# Print the shape of a 2-D array\n",
    "arr = np.array([[1, 2, 3, 4], [5, 6, 7, 8]])\n",
    "print(arr.shape)"
   ],
   "metadata": {
    "collapsed": false,
    "ExecuteTime": {
     "end_time": "2023-12-20T23:29:59.461804Z",
     "start_time": "2023-12-20T23:29:59.456913Z"
    }
   },
   "id": "74300dc43677e314"
  },
  {
   "cell_type": "code",
   "execution_count": 34,
   "outputs": [
    {
     "name": "stdout",
     "output_type": "stream",
     "text": [
      "[[1 2 3]]\n",
      "Shape: (1, 3)\n"
     ]
    }
   ],
   "source": [
    "# Creating a 1D array with minimum 2 dimensions\n",
    "arr = np.array([1, 2, 3], ndmin=2)\n",
    "print(arr)\n",
    "print(\"Shape:\", arr.shape)\n"
   ],
   "metadata": {
    "collapsed": false,
    "ExecuteTime": {
     "end_time": "2023-12-20T23:33:59.605471Z",
     "start_time": "2023-12-20T23:33:59.601983Z"
    }
   },
   "id": "62ba36af7cf4e4ed"
  },
  {
   "cell_type": "markdown",
   "source": [
    "# Reshaping arrays\n",
    "\n",
    "* Reshaping means changing the shape of an array.\n",
    "* The shape of an array is the number of elements in each dimension.\n",
    "* By reshaping we can add or remove dimensions or change number of elements in each dimension."
   ],
   "metadata": {
    "collapsed": false
   },
   "id": "bd995ce1321311a8"
  },
  {
   "cell_type": "code",
   "execution_count": 36,
   "outputs": [
    {
     "name": "stdout",
     "output_type": "stream",
     "text": [
      "12\n",
      "[[ 1  2  3]\n",
      " [ 4  5  6]\n",
      " [ 7  8  9]\n",
      " [10 11 12]]\n",
      "[[[ 1  2]\n",
      "  [ 3  4]\n",
      "  [ 5  6]]\n",
      "\n",
      " [[ 7  8]\n",
      "  [ 9 10]\n",
      "  [11 12]]]\n"
     ]
    }
   ],
   "source": [
    "# Convert the following 1-D array with 12 elements into a 2-D array.\n",
    "# The outermost dimension will have 4 arrays, each with 3 elements.\n",
    "arr = np.array([1, 2, 3, 4, 5, 6, 7, 8, 9, 10, 11, 12])\n",
    "print(arr.size)\n",
    "new_arr = arr.reshape(4, 3)\n",
    "print(new_arr)\n",
    "\n",
    "# Convert the following 1-D array with 12 elements into a 3-D array.\n",
    "# The outermost dimension will have 2 arrays that contains 3 arrays, each with 2 elements:\n",
    "new_arr = arr.reshape(2, 3, 2)\n",
    "print(new_arr)"
   ],
   "metadata": {
    "collapsed": false,
    "ExecuteTime": {
     "end_time": "2023-12-20T23:39:44.718907Z",
     "start_time": "2023-12-20T23:39:44.715056Z"
    }
   },
   "id": "6edf9c9cb93f7b4d"
  },
  {
   "cell_type": "markdown",
   "source": [
    "# Can We Reshape Into any Shape?\n",
    "\n",
    "* Yes, as long as the elements required for reshaping are equal in both shapes.\n",
    "* We can reshape 8 elements 1D array into 4 elements in 2 rows 2D array, but we cannot reshape it into 3 elements 3\n",
    "rows 2D array as that would require 3x3 = 9 elements."
   ],
   "metadata": {
    "collapsed": false
   },
   "id": "58f6a491531e9e37"
  },
  {
   "cell_type": "code",
   "execution_count": 37,
   "outputs": [
    {
     "ename": "ValueError",
     "evalue": "cannot reshape array of size 8 into shape (3,3)",
     "output_type": "error",
     "traceback": [
      "\u001B[0;31m---------------------------------------------------------------------------\u001B[0m",
      "\u001B[0;31mValueError\u001B[0m                                Traceback (most recent call last)",
      "Cell \u001B[0;32mIn[37], line 3\u001B[0m\n\u001B[1;32m      1\u001B[0m arr \u001B[38;5;241m=\u001B[39m np\u001B[38;5;241m.\u001B[39marray([\u001B[38;5;241m1\u001B[39m, \u001B[38;5;241m2\u001B[39m, \u001B[38;5;241m3\u001B[39m, \u001B[38;5;241m4\u001B[39m, \u001B[38;5;241m5\u001B[39m, \u001B[38;5;241m6\u001B[39m, \u001B[38;5;241m7\u001B[39m, \u001B[38;5;241m8\u001B[39m])\n\u001B[0;32m----> 3\u001B[0m new_arr \u001B[38;5;241m=\u001B[39m \u001B[43marr\u001B[49m\u001B[38;5;241;43m.\u001B[39;49m\u001B[43mreshape\u001B[49m\u001B[43m(\u001B[49m\u001B[38;5;241;43m3\u001B[39;49m\u001B[43m,\u001B[49m\u001B[43m \u001B[49m\u001B[38;5;241;43m3\u001B[39;49m\u001B[43m)\u001B[49m\n\u001B[1;32m      4\u001B[0m \u001B[38;5;28mprint\u001B[39m(new_arr)\n",
      "\u001B[0;31mValueError\u001B[0m: cannot reshape array of size 8 into shape (3,3)"
     ]
    }
   ],
   "source": [
    "# Try converting 1D array with 8 elements to a 2D array with 3 elements in each dimension (will raise an error).\n",
    "\n",
    "arr = np.array([1, 2, 3, 4, 5, 6, 7, 8])\n",
    "new_arr = arr.reshape(3, 3)\n",
    "print(new_arr)"
   ],
   "metadata": {
    "collapsed": false,
    "ExecuteTime": {
     "end_time": "2023-12-20T23:41:39.624749Z",
     "start_time": "2023-12-20T23:41:39.422761Z"
    }
   },
   "id": "d3c812f52842d2f2"
  },
  {
   "cell_type": "code",
   "execution_count": 38,
   "outputs": [
    {
     "name": "stdout",
     "output_type": "stream",
     "text": [
      "[1 2 3 4 5 6 7 8]\n"
     ]
    }
   ],
   "source": [
    "# Check if the returned array is a copy or a view.\n",
    "arr = np.array([1, 2, 3, 4, 5, 6, 7, 8])\n",
    "print(arr.reshape(2, 4).base)  # The example above returns the original array, so it is a view."
   ],
   "metadata": {
    "collapsed": false,
    "ExecuteTime": {
     "end_time": "2023-12-20T23:43:06.841341Z",
     "start_time": "2023-12-20T23:43:06.826836Z"
    }
   },
   "id": "5c3e37051cfeb5b4"
  },
  {
   "cell_type": "markdown",
   "source": [
    "# Unknown Dimension\n",
    "\n",
    "* You are allowed to have one \"unknown\" dimension.\n",
    "* Pass `-1` as the value, and NumPy will calculate this number for you.\n",
    "> We can not pass `-1` to more than one dimension."
   ],
   "metadata": {
    "collapsed": false
   },
   "id": "89d7fd0ad3be457c"
  },
  {
   "cell_type": "code",
   "execution_count": 39,
   "outputs": [
    {
     "name": "stdout",
     "output_type": "stream",
     "text": [
      "[[[1 2]\n",
      "  [3 4]]\n",
      "\n",
      " [[5 6]\n",
      "  [7 8]]]\n"
     ]
    }
   ],
   "source": [
    "arr = np.array([1, 2, 3, 4, 5, 6, 7, 8])\n",
    "new_arr = arr.reshape(2, 2, -1)\n",
    "print(new_arr)"
   ],
   "metadata": {
    "collapsed": false,
    "ExecuteTime": {
     "end_time": "2023-12-20T23:44:53.136106Z",
     "start_time": "2023-12-20T23:44:53.112231Z"
    }
   },
   "id": "837ad4899acbbaf1"
  },
  {
   "cell_type": "markdown",
   "source": [
    "# Flattening the arrays\n",
    "\n",
    "* Flattening array means converting a multidimensional array into a 1D array\n",
    "* We can use `reshape(-1)` to do this.\n",
    "> There are a lot of functions for changing the shapes of arrays in numpy `flatten`, `ravel` and also for rearranging the\n",
    "elements `rot90`, `fli`p, `fliplr`, `flipud` etc. These fall under Intermediate to Advanced section of NumPy."
   ],
   "metadata": {
    "collapsed": false
   },
   "id": "33a7b8bbe3ae17cd"
  },
  {
   "cell_type": "code",
   "execution_count": 40,
   "outputs": [
    {
     "name": "stdout",
     "output_type": "stream",
     "text": [
      "[1 2 3 4 5 6]\n"
     ]
    }
   ],
   "source": [
    "arr = np.array([[1, 2, 3], [4, 5, 6]])\n",
    "new_arr = arr.reshape(-1)\n",
    "print(new_arr)"
   ],
   "metadata": {
    "collapsed": false,
    "ExecuteTime": {
     "end_time": "2023-12-20T23:46:15.759971Z",
     "start_time": "2023-12-20T23:46:15.754398Z"
    }
   },
   "id": "d55079af7b805373"
  },
  {
   "cell_type": "markdown",
   "source": [
    "# Iterating\n",
    "\n",
    "* If we iterate on `n-D` array it will go through `n-1th` dimension one by one."
   ],
   "metadata": {
    "collapsed": false
   },
   "id": "ccd34ca452978cb3"
  },
  {
   "cell_type": "code",
   "execution_count": 41,
   "outputs": [
    {
     "name": "stdout",
     "output_type": "stream",
     "text": [
      "1\n",
      "2\n",
      "3\n"
     ]
    }
   ],
   "source": [
    "# Iterate on the elements of the following 1-D array.\n",
    "arr = np.array([1, 2, 3])\n",
    "for x in arr:\n",
    "  print(x)"
   ],
   "metadata": {
    "collapsed": false,
    "ExecuteTime": {
     "end_time": "2023-12-20T23:50:43.240656Z",
     "start_time": "2023-12-20T23:50:43.230555Z"
    }
   },
   "id": "4a8e37492c281c4b"
  },
  {
   "cell_type": "code",
   "execution_count": 43,
   "outputs": [
    {
     "name": "stdout",
     "output_type": "stream",
     "text": [
      "123456"
     ]
    }
   ],
   "source": [
    "# In a 2-D array it will go through all the rows.\n",
    "arr = np.array([[1, 2, 3], [4, 5, 6]])\n",
    "for x in arr:\n",
    "  print(x)"
   ],
   "metadata": {
    "collapsed": false,
    "ExecuteTime": {
     "end_time": "2023-12-20T23:51:32.126892Z",
     "start_time": "2023-12-20T23:51:32.121951Z"
    }
   },
   "id": "768a113dbc369f08"
  },
  {
   "cell_type": "code",
   "execution_count": 45,
   "outputs": [
    {
     "name": "stdout",
     "output_type": "stream",
     "text": [
      "1 2 3 4 5 6 "
     ]
    }
   ],
   "source": [
    "# To return the actual values, the scalars, we have to iterate the arrays in each dimension.\n",
    "arr = np.array([[1, 2, 3], [4, 5, 6]])\n",
    "\n",
    "for x in arr:\n",
    "    for y in x:\n",
    "        print(y, end=' ')"
   ],
   "metadata": {
    "collapsed": false,
    "ExecuteTime": {
     "end_time": "2023-12-20T23:55:04.885072Z",
     "start_time": "2023-12-20T23:55:04.872869Z"
    }
   },
   "id": "c40eebeba9ec5562"
  },
  {
   "cell_type": "code",
   "execution_count": 46,
   "outputs": [
    {
     "name": "stdout",
     "output_type": "stream",
     "text": [
      "[[1 2 3]\n",
      " [4 5 6]]\n",
      "[[ 7  8  9]\n",
      " [10 11 12]]\n"
     ]
    }
   ],
   "source": [
    "# In a 3-D array it will go through all the 2-D arrays.\n",
    "arr = np.array([[[1, 2, 3], [4, 5, 6]], [[7, 8, 9], [10, 11, 12]]])\n",
    "for x in arr:\n",
    "  print(x)"
   ],
   "metadata": {
    "collapsed": false,
    "ExecuteTime": {
     "end_time": "2023-12-20T23:55:31.629382Z",
     "start_time": "2023-12-20T23:55:31.617884Z"
    }
   },
   "id": "3e19a7e793f10dcd"
  },
  {
   "cell_type": "code",
   "execution_count": 47,
   "outputs": [
    {
     "name": "stdout",
     "output_type": "stream",
     "text": [
      "1 2 3 4 5 6 7 8 9 10 11 12 "
     ]
    }
   ],
   "source": [
    "# To return the actual values, the scalars, we have to iterate the arrays in each dimension.\n",
    "for x in arr:\n",
    "  for y in x:\n",
    "    for z in y:\n",
    "      print(z, end=' ')"
   ],
   "metadata": {
    "collapsed": false,
    "ExecuteTime": {
     "end_time": "2023-12-20T23:56:13.653813Z",
     "start_time": "2023-12-20T23:56:13.641573Z"
    }
   },
   "id": "e5da1b6c0ec5da77"
  },
  {
   "cell_type": "markdown",
   "source": [
    "# Iterating Arrays Using `nditer()`\n",
    "\n",
    "* In basic for loops, iterating through each scalar of an array we need to use n for loops which can be difficult to\n",
    "write for arrays with very high dimensionality."
   ],
   "metadata": {
    "collapsed": false
   },
   "id": "7e6dc3917315f1f2"
  },
  {
   "cell_type": "code",
   "execution_count": 49,
   "outputs": [
    {
     "name": "stdout",
     "output_type": "stream",
     "text": [
      "1 2 3 4 5 6 7 8 "
     ]
    }
   ],
   "source": [
    "arr = np.array([[[1, 2], [3, 4]], [[5, 6], [7, 8]]])\n",
    "\n",
    "for x in np.nditer(arr):\n",
    "  print(x, end=' ')"
   ],
   "metadata": {
    "collapsed": false,
    "ExecuteTime": {
     "end_time": "2023-12-20T23:57:45.622083Z",
     "start_time": "2023-12-20T23:57:45.618596Z"
    }
   },
   "id": "c9644d9b47a5c721"
  },
  {
   "cell_type": "markdown",
   "source": [
    "# Iterating Array With Different Data Types"
   ],
   "metadata": {
    "collapsed": false
   },
   "id": "486cb953d37cd212"
  },
  {
   "cell_type": "code",
   "execution_count": 50,
   "outputs": [
    {
     "name": "stdout",
     "output_type": "stream",
     "text": [
      "b'1'\n",
      "b'2'\n",
      "b'3'\n"
     ]
    }
   ],
   "source": [
    "arr = np.array([1, 2, 3])\n",
    "\n",
    "for x in np.nditer(arr, flags=['buffered'], op_dtypes=['S']):\n",
    "  print(x)"
   ],
   "metadata": {
    "collapsed": false,
    "ExecuteTime": {
     "end_time": "2023-12-20T23:58:16.096841Z",
     "start_time": "2023-12-20T23:58:16.083266Z"
    }
   },
   "id": "acdbe5e95324bd22"
  },
  {
   "cell_type": "code",
   "execution_count": null,
   "outputs": [],
   "source": [
    "# Iterating With Different Step Size"
   ],
   "metadata": {
    "collapsed": false
   },
   "id": "e9b9241c6340b8f"
  },
  {
   "cell_type": "code",
   "execution_count": 51,
   "outputs": [
    {
     "name": "stdout",
     "output_type": "stream",
     "text": [
      "1\n",
      "3\n",
      "5\n",
      "7\n"
     ]
    }
   ],
   "source": [
    "arr = np.array([[1, 2, 3, 4], [5, 6, 7, 8]])\n",
    "for x in np.nditer(arr[:, ::2]):\n",
    "  print(x)"
   ],
   "metadata": {
    "collapsed": false,
    "ExecuteTime": {
     "end_time": "2023-12-20T23:58:39.596776Z",
     "start_time": "2023-12-20T23:58:39.575851Z"
    }
   },
   "id": "b8c43a4409878cc5"
  },
  {
   "cell_type": "markdown",
   "source": [
    "# Enumerated Iteration Using ndenumerate()"
   ],
   "metadata": {
    "collapsed": false
   },
   "id": "d7aaf4d9eac79947"
  },
  {
   "cell_type": "code",
   "execution_count": 56,
   "outputs": [
    {
     "name": "stdout",
     "output_type": "stream",
     "text": [
      "(0,) 1\n",
      "(1,) 2\n",
      "(2,) 3\n"
     ]
    }
   ],
   "source": [
    "# Enumerate on following 1D arrays elements\n",
    "arr = np.array([1, 2, 3])\n",
    "for idx, x in np.ndenumerate(arr):\n",
    "  print(idx, x)"
   ],
   "metadata": {
    "collapsed": false,
    "ExecuteTime": {
     "end_time": "2023-12-21T00:00:02.466592Z",
     "start_time": "2023-12-21T00:00:02.461925Z"
    }
   },
   "id": "a6209a6987490c93"
  },
  {
   "cell_type": "code",
   "execution_count": 57,
   "outputs": [
    {
     "name": "stdout",
     "output_type": "stream",
     "text": [
      "(0, 0) 1\n",
      "(0, 1) 2\n",
      "(0, 2) 3\n",
      "(0, 3) 4\n",
      "(1, 0) 5\n",
      "(1, 1) 6\n",
      "(1, 2) 7\n",
      "(1, 3) 8\n"
     ]
    }
   ],
   "source": [
    "# Enumerate on following 2D array's elements.\n",
    "arr = np.array([[1, 2, 3, 4], [5, 6, 7, 8]])\n",
    "for idx, x in np.ndenumerate(arr):\n",
    "  print(idx, x)"
   ],
   "metadata": {
    "collapsed": false,
    "ExecuteTime": {
     "end_time": "2023-12-21T00:00:14.151192Z",
     "start_time": "2023-12-21T00:00:14.137222Z"
    }
   },
   "id": "79c78c88b289125a"
  },
  {
   "cell_type": "code",
   "execution_count": 58,
   "outputs": [
    {
     "name": "stdout",
     "output_type": "stream",
     "text": [
      "(0, 0, 0) 1\n",
      "(0, 0, 1) 2\n",
      "(0, 0, 2) 3\n",
      "(0, 1, 0) 4\n",
      "(0, 1, 1) 5\n",
      "(0, 1, 2) 6\n",
      "(1, 0, 0) 7\n",
      "(1, 0, 1) 8\n",
      "(1, 0, 2) 9\n",
      "(1, 1, 0) 10\n",
      "(1, 1, 1) 11\n",
      "(1, 1, 2) 12\n"
     ]
    }
   ],
   "source": [
    "# Enumerate on following 3D array's elements.\n",
    "arr = np.array([[[1, 2, 3], [4, 5, 6]], [[7, 8, 9], [10, 11, 12]]])\n",
    "for idx, x in np.ndenumerate(arr):\n",
    "  print(idx, x)"
   ],
   "metadata": {
    "collapsed": false,
    "ExecuteTime": {
     "end_time": "2023-12-21T00:01:42.678099Z",
     "start_time": "2023-12-21T00:01:42.666357Z"
    }
   },
   "id": "860f653a85f2521d"
  },
  {
   "cell_type": "markdown",
   "source": [
    "# Joining NumPy Array\n",
    "\n",
    "* We pass a sequence of arrays that we want to join to the `concatenate()` function, along with the axis.\n",
    "* If axis is not explicitly passed, it is taken as `0`."
   ],
   "metadata": {
    "collapsed": false
   },
   "id": "96395e31df817bc1"
  },
  {
   "cell_type": "code",
   "execution_count": 59,
   "outputs": [
    {
     "name": "stdout",
     "output_type": "stream",
     "text": [
      "[1 2 3 4 5 6]\n"
     ]
    }
   ],
   "source": [
    "# Join two arrays.\n",
    "arr1 = np.array([1, 2, 3])\n",
    "arr2 = np.array([4, 5, 6])\n",
    "arr = np.concatenate((arr1, arr2))\n",
    "print(arr)"
   ],
   "metadata": {
    "collapsed": false,
    "ExecuteTime": {
     "end_time": "2023-12-21T00:02:36.847620Z",
     "start_time": "2023-12-21T00:02:36.828520Z"
    }
   },
   "id": "f7920e47cb7aeff5"
  },
  {
   "cell_type": "code",
   "execution_count": 64,
   "outputs": [
    {
     "name": "stdout",
     "output_type": "stream",
     "text": [
      "[[1 2]\n",
      " [3 4]\n",
      " [5 6]\n",
      " [7 8]]\n",
      "[[1 2 5 6]\n",
      " [3 4 7 8]]\n"
     ]
    }
   ],
   "source": [
    "# Join two 2-D arrays along rows.\n",
    "arr1 = np.array([[1, 2], [3, 4]])\n",
    "arr2 = np.array([[5, 6], [7, 8]])\n",
    "\n",
    "arr = np.concatenate((arr1, arr2), axis=0)\n",
    "print(arr)\n",
    "\n",
    "arr = np.concatenate((arr1, arr2), axis=1)\n",
    "print(arr)"
   ],
   "metadata": {
    "collapsed": false,
    "ExecuteTime": {
     "end_time": "2023-12-21T00:05:34.207213Z",
     "start_time": "2023-12-21T00:05:34.200881Z"
    }
   },
   "id": "354e7e5f202f7d2c"
  },
  {
   "cell_type": "code",
   "execution_count": null,
   "outputs": [],
   "source": [],
   "metadata": {
    "collapsed": false
   },
   "id": "ce952bb4027aaf89"
  }
 ],
 "metadata": {
  "kernelspec": {
   "display_name": "Python 3",
   "language": "python",
   "name": "python3"
  },
  "language_info": {
   "codemirror_mode": {
    "name": "ipython",
    "version": 2
   },
   "file_extension": ".py",
   "mimetype": "text/x-python",
   "name": "python",
   "nbconvert_exporter": "python",
   "pygments_lexer": "ipython2",
   "version": "2.7.6"
  }
 },
 "nbformat": 4,
 "nbformat_minor": 5
}
