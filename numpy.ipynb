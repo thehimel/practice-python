{
 "cells": [
  {
   "cell_type": "markdown",
   "id": "a74af15236ccdaae",
   "metadata": {
    "collapsed": false
   },
   "source": [
    "# NumPy\n",
    "\n",
    "Source: https://www.w3schools.com/python/numpy/"
   ]
  },
  {
   "cell_type": "markdown",
   "source": [
    "## Create and Access Arrays"
   ],
   "metadata": {
    "collapsed": false
   },
   "id": "6399237bc3593ab9"
  },
  {
   "cell_type": "code",
   "execution_count": 2,
   "id": "cb7f6d1cb94832ca",
   "metadata": {
    "ExecuteTime": {
     "end_time": "2023-12-21T11:07:19.951415Z",
     "start_time": "2023-12-21T11:07:19.608371Z"
    },
    "collapsed": false
   },
   "outputs": [
    {
     "name": "stdout",
     "output_type": "stream",
     "text": [
      "1\n"
     ]
    }
   ],
   "source": [
    "import numpy as np\n",
    "\n",
    "arr = np.array([1, 2, 3, 4])\n",
    "print(arr[0])"
   ]
  },
  {
   "cell_type": "code",
   "execution_count": 6,
   "id": "5cfe28f1d27a2dcd",
   "metadata": {
    "ExecuteTime": {
     "end_time": "2023-12-20T21:28:15.897941Z",
     "start_time": "2023-12-20T21:28:15.892218Z"
    },
    "collapsed": false
   },
   "outputs": [
    {
     "name": "stdout",
     "output_type": "stream",
     "text": [
      "5\n"
     ]
    }
   ],
   "source": [
    "arr = np.array([1, 2, 3, 4])\n",
    "print(arr[0] + arr[-1])"
   ]
  },
  {
   "cell_type": "code",
   "execution_count": 11,
   "id": "c19ae5960e65cd1d",
   "metadata": {
    "ExecuteTime": {
     "end_time": "2023-12-20T21:29:44.113502Z",
     "start_time": "2023-12-20T21:29:44.106486Z"
    },
    "collapsed": false
   },
   "outputs": [
    {
     "name": "stdout",
     "output_type": "stream",
     "text": [
      "2nd element on 1st row:  2\n",
      "2nd element on 1st row:  2\n"
     ]
    }
   ],
   "source": [
    "arr = np.array([[1,2,3,4,5], [6,7,8,9,10]])\n",
    "print('2nd element on 1st row: ', arr[0, 1])\n",
    "print('2nd element on 1st row: ', arr[0][1])"
   ]
  },
  {
   "cell_type": "code",
   "execution_count": 12,
   "id": "7bef6f02bbccaf2b",
   "metadata": {
    "ExecuteTime": {
     "end_time": "2023-12-20T21:30:17.378986Z",
     "start_time": "2023-12-20T21:30:17.374150Z"
    },
    "collapsed": false
   },
   "outputs": [
    {
     "name": "stdout",
     "output_type": "stream",
     "text": [
      "5th element on 2nd row:  10\n"
     ]
    }
   ],
   "source": [
    "print('5th element on 2nd row: ', arr[1, 4])"
   ]
  },
  {
   "cell_type": "code",
   "execution_count": 14,
   "id": "56fd8bdcb358c14d",
   "metadata": {
    "ExecuteTime": {
     "end_time": "2023-12-20T21:31:16.074615Z",
     "start_time": "2023-12-20T21:31:16.066967Z"
    },
    "collapsed": false
   },
   "outputs": [
    {
     "name": "stdout",
     "output_type": "stream",
     "text": [
      "6\n"
     ]
    }
   ],
   "source": [
    "# Access 3-D Arrays\n",
    "arr = np.array([[[1, 2, 3], [4, 5, 6]], [[7, 8, 9], [10, 11, 12]]])\n",
    "print(arr[0, 1, 2])"
   ]
  },
  {
   "cell_type": "code",
   "execution_count": 13,
   "id": "3cd3c7a26af93f36",
   "metadata": {
    "ExecuteTime": {
     "end_time": "2023-12-20T21:31:14.844866Z",
     "start_time": "2023-12-20T21:31:14.839110Z"
    },
    "collapsed": false
   },
   "outputs": [
    {
     "name": "stdout",
     "output_type": "stream",
     "text": [
      "Last element from 2nd dim:  10\n"
     ]
    }
   ],
   "source": [
    "arr = np.array([[1,2,3,4,5], [6,7,8,9,10]])\n",
    "print('Last element from 2nd dim: ', arr[1, -1])"
   ]
  },
  {
   "cell_type": "markdown",
   "source": [
    "## Array Slicing"
   ],
   "metadata": {
    "collapsed": false
   },
   "id": "4ccec4805ad2f18d"
  },
  {
   "cell_type": "code",
   "execution_count": 16,
   "id": "bbb4b9959eedff6c",
   "metadata": {
    "ExecuteTime": {
     "end_time": "2023-12-20T21:52:12.265387Z",
     "start_time": "2023-12-20T21:52:12.258497Z"
    },
    "collapsed": false
   },
   "outputs": [
    {
     "name": "stdout",
     "output_type": "stream",
     "text": [
      "[2 4]\n",
      "[2 3 4 5]\n",
      "[5 6 7]\n",
      "[1 2 3 4]\n",
      "[5 6]\n",
      "[1 3 5 7]\n"
     ]
    }
   ],
   "source": [
    "# We can also define the step, like this: [start:end:step]\n",
    "arr = np.array([1, 2, 3, 4, 5, 6, 7])\n",
    "print(arr[1:5:2])\n",
    "print(arr[1:5])\n",
    "print(arr[4:])\n",
    "print(arr[:4])\n",
    "print(arr[-3:-1])\n",
    "print(arr[::2])"
   ]
  },
  {
   "cell_type": "code",
   "execution_count": 23,
   "id": "b22ac1dd5e254564",
   "metadata": {
    "ExecuteTime": {
     "end_time": "2023-12-20T23:17:10.555510Z",
     "start_time": "2023-12-20T23:17:10.547705Z"
    },
    "collapsed": false
   },
   "outputs": [
    {
     "name": "stdout",
     "output_type": "stream",
     "text": [
      "[7 8 9]\n",
      "[3 8]\n",
      "[[2 3 4]\n",
      " [7 8 9]]\n"
     ]
    }
   ],
   "source": [
    "# Slicing 2-D Arrays\n",
    "arr = np.array([[1, 2, 3, 4, 5], [6, 7, 8, 9, 10]])\n",
    "print(arr[1, 1:4])  # From the second element, slice elements from index 1 to index 4 (not included):\n",
    "print(arr[0:2, 2])  # From both elements, return index 2:\n",
    "print(arr[0:2, 1:4])  # From both elements, slice index 1 to index 4 (not included), this will return a 2-D array:"
   ]
  },
  {
   "cell_type": "markdown",
   "id": "cae12085992a26d7",
   "metadata": {
    "collapsed": false
   },
   "source": [
    "## Data Types in NumPy\n",
    "\n",
    "* i - integer\n",
    "* b - boolean\n",
    "* u - unsigned integer\n",
    "* f - float\n",
    "* c - complex float\n",
    "* m - timedelta\n",
    "* M - datetime\n",
    "* O - object\n",
    "* S - string\n",
    "* U - unicode string\n",
    "* V - fixed chunk of memory for other type (void)"
   ]
  },
  {
   "cell_type": "code",
   "execution_count": 20,
   "id": "f690e27da8aac64b",
   "metadata": {
    "ExecuteTime": {
     "end_time": "2023-12-20T21:55:35.331865Z",
     "start_time": "2023-12-20T21:55:35.327917Z"
    },
    "collapsed": false
   },
   "outputs": [
    {
     "name": "stdout",
     "output_type": "stream",
     "text": [
      "int64\n",
      "<U6\n"
     ]
    }
   ],
   "source": [
    "# Get the data type\n",
    "arr = np.array([1, 2, 3, 4])\n",
    "print(arr.dtype)\n",
    "\n",
    "arr = np.array(['apple', 'banana', 'cherry'])\n",
    "print(arr.dtype)"
   ]
  },
  {
   "cell_type": "code",
   "execution_count": 21,
   "id": "4bc0bff8572f6a70",
   "metadata": {
    "ExecuteTime": {
     "end_time": "2023-12-20T21:56:02.465315Z",
     "start_time": "2023-12-20T21:56:02.458660Z"
    },
    "collapsed": false
   },
   "outputs": [
    {
     "name": "stdout",
     "output_type": "stream",
     "text": [
      "[b'1' b'2' b'3' b'4']\n",
      "|S1\n"
     ]
    }
   ],
   "source": [
    "# Create an array with data type string:\n",
    "arr = np.array([1, 2, 3, 4], dtype='S')\n",
    "print(arr)\n",
    "print(arr.dtype)"
   ]
  },
  {
   "cell_type": "code",
   "execution_count": 24,
   "id": "215242f297051f91",
   "metadata": {
    "ExecuteTime": {
     "end_time": "2023-12-20T23:17:55.327410Z",
     "start_time": "2023-12-20T23:17:55.322341Z"
    },
    "collapsed": false
   },
   "outputs": [
    {
     "name": "stdout",
     "output_type": "stream",
     "text": [
      "[1 2 3 4]\n",
      "int32\n",
      "[1 2 3 4]\n",
      "int32\n"
     ]
    }
   ],
   "source": [
    "# Create an array with data type 4 bytes integer:\n",
    "arr = np.array([1, 2, 3, 4], dtype='i4')\n",
    "print(arr)\n",
    "print(arr.dtype)\n",
    "\n",
    "arr = np.array([1, 2, 3, 4], dtype='i')\n",
    "print(arr)\n",
    "print(arr.dtype)"
   ]
  },
  {
   "cell_type": "code",
   "execution_count": 27,
   "id": "10be309cabbb6c9e",
   "metadata": {
    "ExecuteTime": {
     "end_time": "2023-12-20T23:20:10.551073Z",
     "start_time": "2023-12-20T23:20:10.545251Z"
    },
    "collapsed": false
   },
   "outputs": [
    {
     "name": "stdout",
     "output_type": "stream",
     "text": [
      "[1 2 3]\n",
      "int32\n",
      "[1 2 3]\n",
      "int64\n",
      "[ True False  True]\n",
      "bool\n"
     ]
    }
   ],
   "source": [
    "# Change data type from float to integer by using 'i' as parameter value\n",
    "arr = np.array([1.1, 2.1, 3.1])\n",
    "new_arr = arr.astype('i')\n",
    "print(new_arr)\n",
    "print(new_arr.dtype)\n",
    "\n",
    "# Change data type from float to integer by using int as parameter value\n",
    "arr = np.array([1.1, 2.1, 3.1])\n",
    "new_arr = arr.astype(int)\n",
    "print(new_arr)\n",
    "print(new_arr.dtype)\n",
    "\n",
    "# Change data type from integer to boolean\n",
    "arr = np.array([1, 0, 3])\n",
    "new_arr = arr.astype(bool)\n",
    "print(new_arr)\n",
    "print(new_arr.dtype)"
   ]
  },
  {
   "cell_type": "markdown",
   "id": "459cd47054ce46a2",
   "metadata": {
    "collapsed": false
   },
   "source": [
    "## The Difference Between Copy and View\n",
    "\n",
    "* The main difference between a copy and a view of an array is that the copy is a new array, and the view is just a view of the original array.\n",
    "* The copy owns the data and any changes made to the copy will not affect original array, and any changes made to the original array will not affect the copy.\n",
    "* The view does not own the data and any changes made to the view will affect the original array, and any changes made to the original array will affect the view."
   ]
  },
  {
   "cell_type": "code",
   "execution_count": 29,
   "id": "dc05f0f8b065610d",
   "metadata": {
    "ExecuteTime": {
     "end_time": "2023-12-20T23:25:27.299627Z",
     "start_time": "2023-12-20T23:25:27.294814Z"
    },
    "collapsed": false
   },
   "outputs": [
    {
     "name": "stdout",
     "output_type": "stream",
     "text": [
      "[42  2  3  4  5]\n",
      "[ 1  2  3  4 99]\n"
     ]
    }
   ],
   "source": [
    "# Copy\n",
    "arr = np.array([1, 2, 3, 4, 5])\n",
    "x = arr.copy()\n",
    "arr[0] = 42\n",
    "x[-1] = 99\n",
    "print(arr)\n",
    "print(x)"
   ]
  },
  {
   "cell_type": "code",
   "execution_count": 30,
   "id": "5c5504a3dec8b7aa",
   "metadata": {
    "ExecuteTime": {
     "end_time": "2023-12-20T23:26:14.968725Z",
     "start_time": "2023-12-20T23:26:14.963735Z"
    },
    "collapsed": false
   },
   "outputs": [
    {
     "name": "stdout",
     "output_type": "stream",
     "text": [
      "[42  2  3  4 99]\n",
      "[42  2  3  4 99]\n"
     ]
    }
   ],
   "source": [
    "# View\n",
    "arr = np.array([1, 2, 3, 4, 5])\n",
    "x = arr.view()\n",
    "arr[0] = 42\n",
    "x[-1] = 99\n",
    "print(arr)\n",
    "print(x)"
   ]
  },
  {
   "cell_type": "markdown",
   "id": "185f05d2ac10bc8e",
   "metadata": {
    "collapsed": false
   },
   "source": [
    "## Check if Array Owns its Data\n",
    "\n",
    "* As mentioned above, copies owns the data, and views does not own the data, but how can we check this?\n",
    "* Every NumPy array has the attribute `base` that returns None if the array owns the data.\n",
    "* Otherwise, the base` attribute refers to the original object."
   ]
  },
  {
   "cell_type": "code",
   "execution_count": null,
   "id": "2fe39f9748c589d4",
   "metadata": {
    "collapsed": false
   },
   "outputs": [],
   "source": [
    "arr = np.array([1, 2, 3, 4, 5])\n",
    "\n",
    "x = arr.copy()\n",
    "y = arr.view()\n",
    "\n",
    "print(x.base)  # The copy returns None.\n",
    "print(y.base)  # The view returns the original array."
   ]
  },
  {
   "cell_type": "markdown",
   "id": "4a898a23bfb04875",
   "metadata": {
    "collapsed": false
   },
   "source": [
    "## Get the Shape of an Array\n",
    "\n",
    "* Arrays in NumPy have an attribute called `shape` that returns a tuple with each index having the number of corresponding elements.\n",
    "* The example above returns `(2, 4)`, which means that the array has 2 dimensions, where the first dimension has 2 elements and the second has 4."
   ]
  },
  {
   "cell_type": "code",
   "execution_count": 32,
   "id": "74300dc43677e314",
   "metadata": {
    "ExecuteTime": {
     "end_time": "2023-12-20T23:29:59.461804Z",
     "start_time": "2023-12-20T23:29:59.456913Z"
    },
    "collapsed": false
   },
   "outputs": [
    {
     "name": "stdout",
     "output_type": "stream",
     "text": [
      "(2, 4)\n"
     ]
    }
   ],
   "source": [
    "# Print the shape of a 2-D array\n",
    "arr = np.array([[1, 2, 3, 4], [5, 6, 7, 8]])\n",
    "print(arr.shape)"
   ]
  },
  {
   "cell_type": "code",
   "execution_count": 34,
   "id": "62ba36af7cf4e4ed",
   "metadata": {
    "ExecuteTime": {
     "end_time": "2023-12-20T23:33:59.605471Z",
     "start_time": "2023-12-20T23:33:59.601983Z"
    },
    "collapsed": false
   },
   "outputs": [
    {
     "name": "stdout",
     "output_type": "stream",
     "text": [
      "[[1 2 3]]\n",
      "Shape: (1, 3)\n"
     ]
    }
   ],
   "source": [
    "# Creating a 1D array with minimum 2 dimensions\n",
    "arr = np.array([1, 2, 3], ndmin=2)\n",
    "print(arr)\n",
    "print(\"Shape:\", arr.shape)\n"
   ]
  },
  {
   "cell_type": "markdown",
   "id": "bd995ce1321311a8",
   "metadata": {
    "collapsed": false
   },
   "source": [
    "## Reshaping arrays\n",
    "\n",
    "* Reshaping means changing the shape of an array.\n",
    "* The shape of an array is the number of elements in each dimension.\n",
    "* By reshaping we can add or remove dimensions or change number of elements in each dimension."
   ]
  },
  {
   "cell_type": "code",
   "execution_count": 36,
   "id": "6edf9c9cb93f7b4d",
   "metadata": {
    "ExecuteTime": {
     "end_time": "2023-12-20T23:39:44.718907Z",
     "start_time": "2023-12-20T23:39:44.715056Z"
    },
    "collapsed": false
   },
   "outputs": [
    {
     "name": "stdout",
     "output_type": "stream",
     "text": [
      "12\n",
      "[[ 1  2  3]\n",
      " [ 4  5  6]\n",
      " [ 7  8  9]\n",
      " [10 11 12]]\n",
      "[[[ 1  2]\n",
      "  [ 3  4]\n",
      "  [ 5  6]]\n",
      "\n",
      " [[ 7  8]\n",
      "  [ 9 10]\n",
      "  [11 12]]]\n"
     ]
    }
   ],
   "source": [
    "# Convert the following 1-D array with 12 elements into a 2-D array.\n",
    "# The outermost dimension will have 4 arrays, each with 3 elements.\n",
    "arr = np.array([1, 2, 3, 4, 5, 6, 7, 8, 9, 10, 11, 12])\n",
    "print(arr.size)\n",
    "new_arr = arr.reshape(4, 3)\n",
    "print(new_arr)\n",
    "\n",
    "# Convert the following 1-D array with 12 elements into a 3-D array.\n",
    "# The outermost dimension will have 2 arrays that contains 3 arrays, each with 2 elements:\n",
    "new_arr = arr.reshape(2, 3, 2)\n",
    "print(new_arr)"
   ]
  },
  {
   "cell_type": "markdown",
   "id": "58f6a491531e9e37",
   "metadata": {
    "collapsed": false
   },
   "source": [
    "## Can We Reshape Into any Shape?\n",
    "\n",
    "* Yes, as long as the elements required for reshaping are equal in both shapes.\n",
    "* We can reshape 8 elements 1D array into 4 elements in 2 rows 2D array, but we cannot reshape it into 3 elements 3 rows 2D array as that would require 3x3 = 9 elements."
   ]
  },
  {
   "cell_type": "code",
   "execution_count": 37,
   "id": "d3c812f52842d2f2",
   "metadata": {
    "ExecuteTime": {
     "end_time": "2023-12-20T23:41:39.624749Z",
     "start_time": "2023-12-20T23:41:39.422761Z"
    },
    "collapsed": false
   },
   "outputs": [
    {
     "ename": "ValueError",
     "evalue": "cannot reshape array of size 8 into shape (3,3)",
     "output_type": "error",
     "traceback": [
      "\u001B[0;31m---------------------------------------------------------------------------\u001B[0m",
      "\u001B[0;31mValueError\u001B[0m                                Traceback (most recent call last)",
      "Cell \u001B[0;32mIn[37], line 3\u001B[0m\n\u001B[1;32m      1\u001B[0m arr \u001B[38;5;241m=\u001B[39m np\u001B[38;5;241m.\u001B[39marray([\u001B[38;5;241m1\u001B[39m, \u001B[38;5;241m2\u001B[39m, \u001B[38;5;241m3\u001B[39m, \u001B[38;5;241m4\u001B[39m, \u001B[38;5;241m5\u001B[39m, \u001B[38;5;241m6\u001B[39m, \u001B[38;5;241m7\u001B[39m, \u001B[38;5;241m8\u001B[39m])\n\u001B[0;32m----> 3\u001B[0m new_arr \u001B[38;5;241m=\u001B[39m \u001B[43marr\u001B[49m\u001B[38;5;241;43m.\u001B[39;49m\u001B[43mreshape\u001B[49m\u001B[43m(\u001B[49m\u001B[38;5;241;43m3\u001B[39;49m\u001B[43m,\u001B[49m\u001B[43m \u001B[49m\u001B[38;5;241;43m3\u001B[39;49m\u001B[43m)\u001B[49m\n\u001B[1;32m      4\u001B[0m \u001B[38;5;28mprint\u001B[39m(new_arr)\n",
      "\u001B[0;31mValueError\u001B[0m: cannot reshape array of size 8 into shape (3,3)"
     ]
    }
   ],
   "source": [
    "# Try converting 1D array with 8 elements to a 2D array with 3 elements in each dimension (will raise an error).\n",
    "\n",
    "arr = np.array([1, 2, 3, 4, 5, 6, 7, 8])\n",
    "new_arr = arr.reshape(3, 3)\n",
    "print(new_arr)"
   ]
  },
  {
   "cell_type": "code",
   "execution_count": 38,
   "id": "5c3e37051cfeb5b4",
   "metadata": {
    "ExecuteTime": {
     "end_time": "2023-12-20T23:43:06.841341Z",
     "start_time": "2023-12-20T23:43:06.826836Z"
    },
    "collapsed": false
   },
   "outputs": [
    {
     "name": "stdout",
     "output_type": "stream",
     "text": [
      "[1 2 3 4 5 6 7 8]\n"
     ]
    }
   ],
   "source": [
    "# Check if the returned array is a copy or a view.\n",
    "arr = np.array([1, 2, 3, 4, 5, 6, 7, 8])\n",
    "print(arr.reshape(2, 4).base)  # The example above returns the original array, so it is a view."
   ]
  },
  {
   "cell_type": "markdown",
   "id": "89d7fd0ad3be457c",
   "metadata": {
    "collapsed": false
   },
   "source": [
    "## Unknown Dimension\n",
    "\n",
    "* You are allowed to have one \"unknown\" dimension.\n",
    "* Pass `-1` as the value, and NumPy will calculate this number for you.\n",
    "> We can not pass `-1` to more than one dimension."
   ]
  },
  {
   "cell_type": "code",
   "execution_count": 39,
   "id": "837ad4899acbbaf1",
   "metadata": {
    "ExecuteTime": {
     "end_time": "2023-12-20T23:44:53.136106Z",
     "start_time": "2023-12-20T23:44:53.112231Z"
    },
    "collapsed": false
   },
   "outputs": [
    {
     "name": "stdout",
     "output_type": "stream",
     "text": [
      "[[[1 2]\n",
      "  [3 4]]\n",
      "\n",
      " [[5 6]\n",
      "  [7 8]]]\n"
     ]
    }
   ],
   "source": [
    "arr = np.array([1, 2, 3, 4, 5, 6, 7, 8])\n",
    "new_arr = arr.reshape(2, 2, -1)\n",
    "print(new_arr)"
   ]
  },
  {
   "cell_type": "markdown",
   "id": "33a7b8bbe3ae17cd",
   "metadata": {
    "collapsed": false
   },
   "source": [
    "## Flattening the arrays\n",
    "\n",
    "* Flattening array means converting a multidimensional array into a 1D array\n",
    "* We can use `reshape(-1)` to do this.\n",
    "> There are a lot of functions for changing the shapes of arrays in numpy `flatten`, `ravel` and also for rearranging the\n",
    "elements `rot90`, `flip`, `fliplr`, `flipud` etc. These fall under Intermediate to Advanced section of NumPy."
   ]
  },
  {
   "cell_type": "code",
   "execution_count": 40,
   "id": "d55079af7b805373",
   "metadata": {
    "ExecuteTime": {
     "end_time": "2023-12-20T23:46:15.759971Z",
     "start_time": "2023-12-20T23:46:15.754398Z"
    },
    "collapsed": false
   },
   "outputs": [
    {
     "name": "stdout",
     "output_type": "stream",
     "text": [
      "[1 2 3 4 5 6]\n"
     ]
    }
   ],
   "source": [
    "arr = np.array([[1, 2, 3], [4, 5, 6]])\n",
    "new_arr = arr.reshape(-1)\n",
    "print(new_arr)"
   ]
  },
  {
   "cell_type": "markdown",
   "id": "ccd34ca452978cb3",
   "metadata": {
    "collapsed": false
   },
   "source": [
    "## Iterating\n",
    "\n",
    "* If we iterate on `n-D` array it will go through `n-1th` dimension one by one."
   ]
  },
  {
   "cell_type": "code",
   "execution_count": 41,
   "id": "4a8e37492c281c4b",
   "metadata": {
    "ExecuteTime": {
     "end_time": "2023-12-20T23:50:43.240656Z",
     "start_time": "2023-12-20T23:50:43.230555Z"
    },
    "collapsed": false
   },
   "outputs": [
    {
     "name": "stdout",
     "output_type": "stream",
     "text": [
      "1\n",
      "2\n",
      "3\n"
     ]
    }
   ],
   "source": [
    "# Iterate on the elements of the following 1-D array.\n",
    "arr = np.array([1, 2, 3])\n",
    "for x in arr:\n",
    "  print(x)"
   ]
  },
  {
   "cell_type": "code",
   "execution_count": 43,
   "id": "768a113dbc369f08",
   "metadata": {
    "ExecuteTime": {
     "end_time": "2023-12-20T23:51:32.126892Z",
     "start_time": "2023-12-20T23:51:32.121951Z"
    },
    "collapsed": false
   },
   "outputs": [
    {
     "name": "stdout",
     "output_type": "stream",
     "text": [
      "123456"
     ]
    }
   ],
   "source": [
    "# In a 2-D array it will go through all the rows.\n",
    "arr = np.array([[1, 2, 3], [4, 5, 6]])\n",
    "for x in arr:\n",
    "  print(x)"
   ]
  },
  {
   "cell_type": "code",
   "execution_count": 45,
   "id": "c40eebeba9ec5562",
   "metadata": {
    "ExecuteTime": {
     "end_time": "2023-12-20T23:55:04.885072Z",
     "start_time": "2023-12-20T23:55:04.872869Z"
    },
    "collapsed": false
   },
   "outputs": [
    {
     "name": "stdout",
     "output_type": "stream",
     "text": [
      "1 2 3 4 5 6 "
     ]
    }
   ],
   "source": [
    "# To return the actual values, the scalars, we have to iterate the arrays in each dimension.\n",
    "arr = np.array([[1, 2, 3], [4, 5, 6]])\n",
    "\n",
    "for x in arr:\n",
    "    for y in x:\n",
    "        print(y, end=' ')"
   ]
  },
  {
   "cell_type": "code",
   "execution_count": 46,
   "id": "3e19a7e793f10dcd",
   "metadata": {
    "ExecuteTime": {
     "end_time": "2023-12-20T23:55:31.629382Z",
     "start_time": "2023-12-20T23:55:31.617884Z"
    },
    "collapsed": false
   },
   "outputs": [
    {
     "name": "stdout",
     "output_type": "stream",
     "text": [
      "[[1 2 3]\n",
      " [4 5 6]]\n",
      "[[ 7  8  9]\n",
      " [10 11 12]]\n"
     ]
    }
   ],
   "source": [
    "# In a 3-D array it will go through all the 2-D arrays.\n",
    "arr = np.array([[[1, 2, 3], [4, 5, 6]], [[7, 8, 9], [10, 11, 12]]])\n",
    "for x in arr:\n",
    "  print(x)"
   ]
  },
  {
   "cell_type": "code",
   "execution_count": 47,
   "id": "e5da1b6c0ec5da77",
   "metadata": {
    "ExecuteTime": {
     "end_time": "2023-12-20T23:56:13.653813Z",
     "start_time": "2023-12-20T23:56:13.641573Z"
    },
    "collapsed": false
   },
   "outputs": [
    {
     "name": "stdout",
     "output_type": "stream",
     "text": [
      "1 2 3 4 5 6 7 8 9 10 11 12 "
     ]
    }
   ],
   "source": [
    "# To return the actual values, the scalars, we have to iterate the arrays in each dimension.\n",
    "for x in arr:\n",
    "  for y in x:\n",
    "    for z in y:\n",
    "      print(z, end=' ')"
   ]
  },
  {
   "cell_type": "markdown",
   "id": "7e6dc3917315f1f2",
   "metadata": {
    "collapsed": false
   },
   "source": [
    "### Iterating Arrays Using `nditer()`\n",
    "\n",
    "* In basic for loops, iterating through each scalar of an array we need to use n for loops which can be difficult to write for arrays with very high dimensionality."
   ]
  },
  {
   "cell_type": "code",
   "execution_count": 49,
   "id": "c9644d9b47a5c721",
   "metadata": {
    "ExecuteTime": {
     "end_time": "2023-12-20T23:57:45.622083Z",
     "start_time": "2023-12-20T23:57:45.618596Z"
    },
    "collapsed": false
   },
   "outputs": [
    {
     "name": "stdout",
     "output_type": "stream",
     "text": [
      "1 2 3 4 5 6 7 8 "
     ]
    }
   ],
   "source": [
    "arr = np.array([[[1, 2], [3, 4]], [[5, 6], [7, 8]]])\n",
    "\n",
    "for x in np.nditer(arr):\n",
    "  print(x, end=' ')"
   ]
  },
  {
   "cell_type": "markdown",
   "id": "486cb953d37cd212",
   "metadata": {
    "collapsed": false
   },
   "source": [
    "### Iterating Array With Different Data Types"
   ]
  },
  {
   "cell_type": "code",
   "execution_count": 50,
   "id": "acdbe5e95324bd22",
   "metadata": {
    "ExecuteTime": {
     "end_time": "2023-12-20T23:58:16.096841Z",
     "start_time": "2023-12-20T23:58:16.083266Z"
    },
    "collapsed": false
   },
   "outputs": [
    {
     "name": "stdout",
     "output_type": "stream",
     "text": [
      "b'1'\n",
      "b'2'\n",
      "b'3'\n"
     ]
    }
   ],
   "source": [
    "arr = np.array([1, 2, 3])\n",
    "\n",
    "for x in np.nditer(arr, flags=['buffered'], op_dtypes=['S']):\n",
    "  print(x)"
   ]
  },
  {
   "cell_type": "code",
   "execution_count": null,
   "id": "e9b9241c6340b8f",
   "metadata": {
    "collapsed": false
   },
   "outputs": [],
   "source": [
    "# Iterating With Different Step Size"
   ]
  },
  {
   "cell_type": "code",
   "execution_count": 51,
   "id": "b8c43a4409878cc5",
   "metadata": {
    "ExecuteTime": {
     "end_time": "2023-12-20T23:58:39.596776Z",
     "start_time": "2023-12-20T23:58:39.575851Z"
    },
    "collapsed": false
   },
   "outputs": [
    {
     "name": "stdout",
     "output_type": "stream",
     "text": [
      "1\n",
      "3\n",
      "5\n",
      "7\n"
     ]
    }
   ],
   "source": [
    "arr = np.array([[1, 2, 3, 4], [5, 6, 7, 8]])\n",
    "for x in np.nditer(arr[:, ::2]):\n",
    "  print(x)"
   ]
  },
  {
   "cell_type": "markdown",
   "id": "d7aaf4d9eac79947",
   "metadata": {
    "collapsed": false
   },
   "source": [
    "### Enumerated Iteration Using ndenumerate()"
   ]
  },
  {
   "cell_type": "code",
   "execution_count": 56,
   "id": "a6209a6987490c93",
   "metadata": {
    "ExecuteTime": {
     "end_time": "2023-12-21T00:00:02.466592Z",
     "start_time": "2023-12-21T00:00:02.461925Z"
    },
    "collapsed": false
   },
   "outputs": [
    {
     "name": "stdout",
     "output_type": "stream",
     "text": [
      "(0,) 1\n",
      "(1,) 2\n",
      "(2,) 3\n"
     ]
    }
   ],
   "source": [
    "# Enumerate on following 1D arrays elements\n",
    "arr = np.array([1, 2, 3])\n",
    "for idx, x in np.ndenumerate(arr):\n",
    "  print(idx, x)"
   ]
  },
  {
   "cell_type": "code",
   "execution_count": 57,
   "id": "79c78c88b289125a",
   "metadata": {
    "ExecuteTime": {
     "end_time": "2023-12-21T00:00:14.151192Z",
     "start_time": "2023-12-21T00:00:14.137222Z"
    },
    "collapsed": false
   },
   "outputs": [
    {
     "name": "stdout",
     "output_type": "stream",
     "text": [
      "(0, 0) 1\n",
      "(0, 1) 2\n",
      "(0, 2) 3\n",
      "(0, 3) 4\n",
      "(1, 0) 5\n",
      "(1, 1) 6\n",
      "(1, 2) 7\n",
      "(1, 3) 8\n"
     ]
    }
   ],
   "source": [
    "# Enumerate on following 2D array's elements.\n",
    "arr = np.array([[1, 2, 3, 4], [5, 6, 7, 8]])\n",
    "for idx, x in np.ndenumerate(arr):\n",
    "  print(idx, x)"
   ]
  },
  {
   "cell_type": "code",
   "execution_count": 58,
   "id": "860f653a85f2521d",
   "metadata": {
    "ExecuteTime": {
     "end_time": "2023-12-21T00:01:42.678099Z",
     "start_time": "2023-12-21T00:01:42.666357Z"
    },
    "collapsed": false
   },
   "outputs": [
    {
     "name": "stdout",
     "output_type": "stream",
     "text": [
      "(0, 0, 0) 1\n",
      "(0, 0, 1) 2\n",
      "(0, 0, 2) 3\n",
      "(0, 1, 0) 4\n",
      "(0, 1, 1) 5\n",
      "(0, 1, 2) 6\n",
      "(1, 0, 0) 7\n",
      "(1, 0, 1) 8\n",
      "(1, 0, 2) 9\n",
      "(1, 1, 0) 10\n",
      "(1, 1, 1) 11\n",
      "(1, 1, 2) 12\n"
     ]
    }
   ],
   "source": [
    "# Enumerate on following 3D array's elements.\n",
    "arr = np.array([[[1, 2, 3], [4, 5, 6]], [[7, 8, 9], [10, 11, 12]]])\n",
    "for idx, x in np.ndenumerate(arr):\n",
    "  print(idx, x)"
   ]
  },
  {
   "cell_type": "markdown",
   "id": "96395e31df817bc1",
   "metadata": {
    "collapsed": false
   },
   "source": [
    "## Joining NumPy Array\n",
    "\n",
    "* We pass a sequence of arrays that we want to join to the `concatenate()` function, along with the axis.\n",
    "* If axis is not explicitly passed, it is taken as `0`."
   ]
  },
  {
   "cell_type": "code",
   "execution_count": 59,
   "id": "f7920e47cb7aeff5",
   "metadata": {
    "ExecuteTime": {
     "end_time": "2023-12-21T00:02:36.847620Z",
     "start_time": "2023-12-21T00:02:36.828520Z"
    },
    "collapsed": false
   },
   "outputs": [
    {
     "name": "stdout",
     "output_type": "stream",
     "text": [
      "[1 2 3 4 5 6]\n"
     ]
    }
   ],
   "source": [
    "# Join two arrays.\n",
    "arr1 = np.array([1, 2, 3])\n",
    "arr2 = np.array([4, 5, 6])\n",
    "arr = np.concatenate((arr1, arr2))\n",
    "print(arr)"
   ]
  },
  {
   "cell_type": "code",
   "execution_count": 4,
   "id": "354e7e5f202f7d2c",
   "metadata": {
    "ExecuteTime": {
     "end_time": "2023-12-21T11:07:48.615441Z",
     "start_time": "2023-12-21T11:07:48.609Z"
    },
    "collapsed": false
   },
   "outputs": [
    {
     "name": "stdout",
     "output_type": "stream",
     "text": [
      "[[1 2]\n",
      " [3 4]\n",
      " [5 6]\n",
      " [7 8]]\n",
      "[[1 2 5 6]\n",
      " [3 4 7 8]]\n"
     ]
    }
   ],
   "source": [
    "# Join two 2-D arrays along rows.\n",
    "arr1 = np.array([[1, 2], [3, 4]])\n",
    "arr2 = np.array([[5, 6], [7, 8]])\n",
    "\n",
    "arr = np.concatenate((arr1, arr2), axis=0)\n",
    "print(arr)\n",
    "\n",
    "arr = np.concatenate((arr1, arr2), axis=1)\n",
    "print(arr)\n"
   ]
  },
  {
   "cell_type": "markdown",
   "id": "c9b6b9bd729b293a",
   "metadata": {
    "collapsed": false
   },
   "source": [
    "## Stacking\n",
    "\n",
    "### Stacking Along Rows"
   ]
  },
  {
   "cell_type": "code",
   "execution_count": 5,
   "id": "d718897fa8e21bcd",
   "metadata": {
    "ExecuteTime": {
     "end_time": "2023-12-21T11:09:01.268584Z",
     "start_time": "2023-12-21T11:09:01.256050Z"
    },
    "collapsed": false
   },
   "outputs": [
    {
     "name": "stdout",
     "output_type": "stream",
     "text": [
      "[1 2 3 4 5 6]\n"
     ]
    }
   ],
   "source": [
    "arr1 = np.array([1, 2, 3])\n",
    "arr2 = np.array([4, 5, 6])\n",
    "arr = np.hstack((arr1, arr2))\n",
    "print(arr)"
   ]
  },
  {
   "cell_type": "markdown",
   "id": "1f1abb09c12efe69",
   "metadata": {
    "collapsed": false
   },
   "source": [
    "### Stacking Along Columns"
   ]
  },
  {
   "cell_type": "code",
   "execution_count": 6,
   "id": "fc69b7449f04544c",
   "metadata": {
    "ExecuteTime": {
     "end_time": "2023-12-21T11:10:09.710867Z",
     "start_time": "2023-12-21T11:10:09.698967Z"
    },
    "collapsed": false
   },
   "outputs": [
    {
     "name": "stdout",
     "output_type": "stream",
     "text": [
      "[[1 2 3]\n",
      " [4 5 6]]\n"
     ]
    }
   ],
   "source": [
    "arr1 = np.array([1, 2, 3])\n",
    "arr2 = np.array([4, 5, 6])\n",
    "arr = np.vstack((arr1, arr2))\n",
    "print(arr)"
   ]
  },
  {
   "cell_type": "markdown",
   "id": "80d8d77dbc91ccbd",
   "metadata": {
    "collapsed": false
   },
   "source": [
    "### Stacking Along Height (depth)"
   ]
  },
  {
   "cell_type": "code",
   "execution_count": 7,
   "id": "604eb8bfb344be47",
   "metadata": {
    "ExecuteTime": {
     "end_time": "2023-12-21T11:10:51.545410Z",
     "start_time": "2023-12-21T11:10:51.530635Z"
    },
    "collapsed": false
   },
   "outputs": [
    {
     "name": "stdout",
     "output_type": "stream",
     "text": [
      "[[[1 4]\n",
      "  [2 5]\n",
      "  [3 6]]]\n"
     ]
    }
   ],
   "source": [
    "arr1 = np.array([1, 2, 3])\n",
    "arr2 = np.array([4, 5, 6])\n",
    "arr = np.dstack((arr1, arr2))\n",
    "print(arr)"
   ]
  },
  {
   "cell_type": "markdown",
   "id": "8834313e8d4ca589",
   "metadata": {
    "collapsed": false
   },
   "source": [
    "## NumPy Splitting Array\n",
    "\n",
    "* Splitting is reverse operation of Joining.\n",
    "* We also have the method `split()` available, but it will not adjust the elements when elements are less in source array for splitting like in example below, `array_split()` worked properly but split() would fail."
   ]
  },
  {
   "cell_type": "code",
   "execution_count": 16,
   "id": "1535683ec6dde8e6",
   "metadata": {
    "ExecuteTime": {
     "end_time": "2023-12-21T11:18:38.670052Z",
     "start_time": "2023-12-21T11:18:38.664292Z"
    },
    "collapsed": false
   },
   "outputs": [
    {
     "name": "stdout",
     "output_type": "stream",
     "text": [
      "[array([1, 2]), array([3, 4]), array([5, 6])]\n",
      "[1 2]\n",
      "[3 4]\n",
      "[5 6]\n"
     ]
    }
   ],
   "source": [
    "# Split the array in 3 parts.\n",
    "arr = np.array([1, 2, 3, 4, 5, 6])\n",
    "new_arr = np.array_split(arr, 3)\n",
    "print(new_arr)\n",
    "\n",
    "# Access the split arrays\n",
    "print(new_arr[0])\n",
    "print(new_arr[1])\n",
    "print(new_arr[2])"
   ]
  },
  {
   "cell_type": "code",
   "execution_count": 17,
   "id": "f7db3ad03416684a",
   "metadata": {
    "ExecuteTime": {
     "end_time": "2023-12-21T11:18:41.599820Z",
     "start_time": "2023-12-21T11:18:41.592386Z"
    },
    "collapsed": false
   },
   "outputs": [
    {
     "name": "stdout",
     "output_type": "stream",
     "text": [
      "[array([1, 2]), array([3, 4]), array([5]), array([6])]\n"
     ]
    }
   ],
   "source": [
    "# If the array has fewer elements than required, it will adjust from the end accordingly.\n",
    "# Split the array in 4 parts.\n",
    "arr = np.array([1, 2, 3, 4, 5, 6])\n",
    "new_arr = np.array_split(arr, 4)\n",
    "print(new_arr)"
   ]
  },
  {
   "cell_type": "code",
   "execution_count": 18,
   "id": "dde9b87c3499efaa",
   "metadata": {
    "ExecuteTime": {
     "end_time": "2023-12-21T11:18:43.737206Z",
     "start_time": "2023-12-21T11:18:43.728313Z"
    },
    "collapsed": false
   },
   "outputs": [
    {
     "name": "stdout",
     "output_type": "stream",
     "text": [
      "[array([[1, 2],\n",
      "       [3, 4]]), array([[5, 6],\n",
      "       [7, 8]]), array([[ 9, 10],\n",
      "       [11, 12]])]\n"
     ]
    }
   ],
   "source": [
    "# Splitting 2-D Arrays. The example returns three 2-D arrays.\n",
    "arr = np.array([[1, 2], [3, 4], [5, 6], [7, 8], [9, 10], [11, 12]])\n",
    "new_arr = np.array_split(arr, 3)\n",
    "print(new_arr)"
   ]
  },
  {
   "cell_type": "code",
   "execution_count": 19,
   "id": "21d752add692768e",
   "metadata": {
    "ExecuteTime": {
     "end_time": "2023-12-21T11:20:01.859824Z",
     "start_time": "2023-12-21T11:20:01.845661Z"
    },
    "collapsed": false
   },
   "outputs": [
    {
     "name": "stdout",
     "output_type": "stream",
     "text": [
      "[array([[1, 2, 3],\n",
      "       [4, 5, 6]]), array([[ 7,  8,  9],\n",
      "       [10, 11, 12]]), array([[13, 14, 15],\n",
      "       [16, 17, 18]])]\n"
     ]
    }
   ],
   "source": [
    "# This time each element in the 2-D arrays contains 3 elements.\n",
    "arr = np.array([[1, 2, 3], [4, 5, 6], [7, 8, 9], [10, 11, 12], [13, 14, 15], [16, 17, 18]])\n",
    "new_arr = np.array_split(arr, 3)\n",
    "print(new_arr)"
   ]
  },
  {
   "cell_type": "code",
   "execution_count": 20,
   "id": "b19aeac51e183365",
   "metadata": {
    "ExecuteTime": {
     "end_time": "2023-12-21T11:20:56.262036Z",
     "start_time": "2023-12-21T11:20:56.248454Z"
    },
    "collapsed": false
   },
   "outputs": [
    {
     "name": "stdout",
     "output_type": "stream",
     "text": [
      "[array([[ 1],\n",
      "       [ 4],\n",
      "       [ 7],\n",
      "       [10],\n",
      "       [13],\n",
      "       [16]]), array([[ 2],\n",
      "       [ 5],\n",
      "       [ 8],\n",
      "       [11],\n",
      "       [14],\n",
      "       [17]]), array([[ 3],\n",
      "       [ 6],\n",
      "       [ 9],\n",
      "       [12],\n",
      "       [15],\n",
      "       [18]])]\n"
     ]
    }
   ],
   "source": [
    "# You can specify which axis you want to do the split around.\n",
    "arr = np.array([[1, 2, 3], [4, 5, 6], [7, 8, 9], [10, 11, 12], [13, 14, 15], [16, 17, 18]])\n",
    "new_arr = np.array_split(arr, 3, axis=1)\n",
    "print(new_arr)"
   ]
  },
  {
   "cell_type": "code",
   "execution_count": 21,
   "id": "c96127cc1fcbf831",
   "metadata": {
    "ExecuteTime": {
     "end_time": "2023-12-21T11:21:43.273064Z",
     "start_time": "2023-12-21T11:21:43.260780Z"
    },
    "collapsed": false
   },
   "outputs": [
    {
     "name": "stdout",
     "output_type": "stream",
     "text": [
      "[array([[ 1],\n",
      "       [ 4],\n",
      "       [ 7],\n",
      "       [10],\n",
      "       [13],\n",
      "       [16]]), array([[ 2],\n",
      "       [ 5],\n",
      "       [ 8],\n",
      "       [11],\n",
      "       [14],\n",
      "       [17]]), array([[ 3],\n",
      "       [ 6],\n",
      "       [ 9],\n",
      "       [12],\n",
      "       [15],\n",
      "       [18]])]\n"
     ]
    }
   ],
   "source": [
    "# An alternate solution is using hsplit() opposite of hstack()\n",
    "arr = np.array([[1, 2, 3], [4, 5, 6], [7, 8, 9], [10, 11, 12], [13, 14, 15], [16, 17, 18]])\n",
    "new_arr = np.hsplit(arr, 3)\n",
    "print(new_arr)"
   ]
  },
  {
   "cell_type": "markdown",
   "id": "b0202bb6ba5451c1",
   "metadata": {
    "collapsed": false
   },
   "source": [
    "> Similar alternates to `vstack()` and `dstack()` are available as `vsplit()` and `dsplit()`."
   ]
  },
  {
   "cell_type": "markdown",
   "id": "d2fc9d461bb736da",
   "metadata": {
    "collapsed": false
   },
   "source": [
    "## Searching Arrays\n",
    "\n",
    "Get the indices of a value in the array."
   ]
  },
  {
   "cell_type": "code",
   "execution_count": 27,
   "id": "4ddf6f0fd07b9c10",
   "metadata": {
    "ExecuteTime": {
     "end_time": "2023-12-21T11:36:32.242811Z",
     "start_time": "2023-12-21T11:36:32.238048Z"
    },
    "collapsed": false
   },
   "outputs": [
    {
     "name": "stdout",
     "output_type": "stream",
     "text": [
      "(array([3, 5, 6]),)\n",
      "(array([0]),)\n",
      "(array([], dtype=int64),)\n",
      "(array([1, 3, 5, 7]),)\n"
     ]
    }
   ],
   "source": [
    "arr = np.array([1, 2, 3, 4, 5, 4, 4])\n",
    "print(np.where(arr == 4))  # The value 4 is present at index 3, 5, and 6.\n",
    "print(np.where(arr == 1))\n",
    "print(np.where(arr == -99))"
   ]
  },
  {
   "cell_type": "code",
   "execution_count": 28,
   "id": "7c5edf3a09662c48",
   "metadata": {
    "ExecuteTime": {
     "end_time": "2023-12-21T11:36:39.750861Z",
     "start_time": "2023-12-21T11:36:39.734816Z"
    },
    "collapsed": false
   },
   "outputs": [
    {
     "name": "stdout",
     "output_type": "stream",
     "text": [
      "(array([1, 3, 5, 7]),)\n"
     ]
    }
   ],
   "source": [
    "# Find the indexes where the values are even.\n",
    "arr = np.array([1, 2, 3, 4, 5, 6, 7, 8])\n",
    "x = np.where(arr%2 == 0)\n",
    "print(x)"
   ]
  },
  {
   "cell_type": "code",
   "execution_count": null,
   "id": "fd825401e07d764",
   "metadata": {
    "collapsed": false
   },
   "outputs": [],
   "source": [
    "# Find the indexes where the values are odd.\n",
    "arr = np.array([1, 2, 3, 4, 5, 6, 7, 8])\n",
    "x = np.where(arr%2 == 1)\n",
    "print(x)"
   ]
  },
  {
   "cell_type": "markdown",
   "id": "ae14ef2ea02ce1f6",
   "metadata": {
    "collapsed": false
   },
   "source": [
    "### Search Sorted\n",
    "\n",
    "* There is a method called `searchsorted()` which performs a binary search in the array, and returns the index where the specified value would be inserted to maintain the search order.\n",
    "> The `searchsorted()` method is assumed to be used on sorted arrays."
   ]
  },
  {
   "cell_type": "code",
   "execution_count": 29,
   "id": "74c211f3fcd0bd7a",
   "metadata": {
    "ExecuteTime": {
     "end_time": "2023-12-21T11:38:29.051276Z",
     "start_time": "2023-12-21T11:38:29.028954Z"
    },
    "collapsed": false
   },
   "outputs": [
    {
     "name": "stdout",
     "output_type": "stream",
     "text": [
      "1\n"
     ]
    }
   ],
   "source": [
    "# Find the indexes where the value 7 should be inserted.\n",
    "# Example explains that the number 7 should be inserted on index 1 to remain the sort order.\n",
    "arr = np.array([6, 7, 8, 9])\n",
    "x = np.searchsorted(arr, 7)\n",
    "print(x)"
   ]
  },
  {
   "cell_type": "markdown",
   "id": "46860b365a15fe51",
   "metadata": {
    "collapsed": false
   },
   "source": [
    "> By default, the left most index is returned, but we can give `side='right'` to return the right most index instead."
   ]
  },
  {
   "cell_type": "code",
   "execution_count": 30,
   "id": "575ce26199f72b9f",
   "metadata": {
    "ExecuteTime": {
     "end_time": "2023-12-21T11:40:23.052137Z",
     "start_time": "2023-12-21T11:40:23.037858Z"
    },
    "collapsed": false
   },
   "outputs": [
    {
     "name": "stdout",
     "output_type": "stream",
     "text": [
      "2\n"
     ]
    }
   ],
   "source": [
    "# The example explains that the number 7 should be inserted on index 2 to remain the sort order.\n",
    "arr = np.array([6, 7, 8, 9])\n",
    "x = np.searchsorted(arr, 7, side='right')\n",
    "print(x)"
   ]
  },
  {
   "cell_type": "markdown",
   "id": "d2ff2d6b2108c72f",
   "metadata": {
    "collapsed": false
   },
   "source": [
    "#### Search Multiple Values"
   ]
  },
  {
   "cell_type": "code",
   "execution_count": 31,
   "id": "8a3df9ab3805256e",
   "metadata": {
    "ExecuteTime": {
     "end_time": "2023-12-21T11:42:08.134957Z",
     "start_time": "2023-12-21T11:42:08.120745Z"
    },
    "collapsed": false
   },
   "outputs": [
    {
     "name": "stdout",
     "output_type": "stream",
     "text": [
      "[1 2 3]\n"
     ]
    }
   ],
   "source": [
    "# The return value is an array: [1 2 3] containing the three indexes where 2, 4, 6 would be inserted in the original array to maintain the order.\n",
    "arr = np.array([1, 3, 5, 7])\n",
    "x = np.searchsorted(arr, [2, 4, 6])\n",
    "print(x)"
   ]
  },
  {
   "cell_type": "markdown",
   "id": "3e4e545ec0a63373",
   "metadata": {
    "collapsed": false
   },
   "source": [
    "## Sorting Arrays"
   ]
  },
  {
   "cell_type": "code",
   "execution_count": 39,
   "id": "27aea760a57faba9",
   "metadata": {
    "ExecuteTime": {
     "end_time": "2023-12-21T12:51:43.419327Z",
     "start_time": "2023-12-21T12:51:43.415519Z"
    },
    "collapsed": false
   },
   "outputs": [
    {
     "name": "stdout",
     "output_type": "stream",
     "text": [
      "[0 1 2 3]\n",
      "['apple' 'banana' 'cherry']\n",
      "[False  True  True]\n",
      "['0' '1' '2' '2.5' '3' 'False' 'False' 'True' 'True' 'apple' 'banana'\n",
      " 'cherry']\n"
     ]
    }
   ],
   "source": [
    "arr = np.array([3, 2, 0, 1])\n",
    "print(np.sort(arr))  # This method returns a copy of the array, leaving the original array unchanged.\n",
    "\n",
    "arr = np.array(['banana', 'cherry', 'apple'])\n",
    "print(np.sort(arr))\n",
    "\n",
    "arr = np.array([True, False, True])\n",
    "\n",
    "print(np.sort(arr))\n",
    "\n",
    "arr = np.array([3, 2, 0, 1, 2.5, 'banana', 'cherry', 'apple', True, False, True, False])\n",
    "print(np.sort(arr))  # Order: number, boolean, string. Note: False = 0, True = 1, therefore, False comes prior to True."
   ]
  },
  {
   "cell_type": "code",
   "execution_count": 40,
   "id": "b72a360db14d293f",
   "metadata": {
    "ExecuteTime": {
     "end_time": "2023-12-21T12:52:19.953388Z",
     "start_time": "2023-12-21T12:52:19.935902Z"
    },
    "collapsed": false
   },
   "outputs": [
    {
     "name": "stdout",
     "output_type": "stream",
     "text": [
      "[[2 3 4]\n",
      " [0 1 5]]\n"
     ]
    }
   ],
   "source": [
    "# If you use the sort() method on a 2-D array, both arrays will be sorted.\n",
    "arr = np.array([[3, 2, 4], [5, 0, 1]])\n",
    "print(np.sort(arr))"
   ]
  },
  {
   "cell_type": "markdown",
   "id": "aa51b306feced2d7",
   "metadata": {
    "collapsed": false
   },
   "source": [
    "## Filtering Arrays\n",
    "\n",
    "Getting some elements out of an existing array and creating a new array out of them is called filtering."
   ]
  },
  {
   "cell_type": "markdown",
   "id": "d833bf29c311de06",
   "metadata": {
    "collapsed": false
   },
   "source": [
    "* A boolean index list is a list of booleans corresponding to indexes in the array.\n",
    "* If the value at an index is `True` that element is contained in the filtered array, if the value at that index is `False` that element is excluded from the filtered array."
   ]
  },
  {
   "cell_type": "code",
   "execution_count": 41,
   "id": "c8b8a252a3821093",
   "metadata": {
    "ExecuteTime": {
     "end_time": "2023-12-21T13:51:18.116257Z",
     "start_time": "2023-12-21T13:51:18.101117Z"
    },
    "collapsed": false
   },
   "outputs": [
    {
     "name": "stdout",
     "output_type": "stream",
     "text": [
      "[41 43]\n"
     ]
    }
   ],
   "source": [
    "arr = np.array([41, 42, 43, 44])\n",
    "x = [True, False, True, False]\n",
    "new_arr = arr[x]  # Syntax: root_array[filter_list]\n",
    "print(new_arr)"
   ]
  },
  {
   "cell_type": "markdown",
   "id": "b6a07ac3386f6363",
   "metadata": {
    "collapsed": false
   },
   "source": [
    "* The example above will return `[41, 43]`, why?\n",
    "  * Because the new array contains only the values where the filter array had the value `True`, in this case, index `0` and `2`."
   ]
  },
  {
   "cell_type": "code",
   "execution_count": 42,
   "id": "92099e5886987817",
   "metadata": {
    "ExecuteTime": {
     "end_time": "2023-12-21T13:54:49.656688Z",
     "start_time": "2023-12-21T13:54:49.637603Z"
    },
    "collapsed": false
   },
   "outputs": [
    {
     "name": "stdout",
     "output_type": "stream",
     "text": [
      "[False, False, True, True]\n",
      "[43 44]\n"
     ]
    }
   ],
   "source": [
    "# Create a filter array that will return only values higher than 42.\n",
    "arr = np.array([41, 42, 43, 44])\n",
    "\n",
    "# Create an empty list\n",
    "filter_arr = []\n",
    "\n",
    "# go through each element in arr\n",
    "for element in arr:\n",
    "  # if the element is higher than 42, set the value to True, otherwise False:\n",
    "  if element > 42:\n",
    "    filter_arr.append(True)\n",
    "  else:\n",
    "    filter_arr.append(False)\n",
    "\n",
    "new_arr = arr[filter_arr]\n",
    "print(filter_arr)\n",
    "print(new_arr)"
   ]
  },
  {
   "cell_type": "markdown",
   "id": "2e4f085622b848cf",
   "metadata": {
    "collapsed": false
   },
   "source": [
    "### Creating Filter Directly From Array"
   ]
  },
  {
   "cell_type": "code",
   "execution_count": 43,
   "id": "746e49cd9c358a9e",
   "metadata": {
    "ExecuteTime": {
     "end_time": "2023-12-21T13:56:56.227963Z",
     "start_time": "2023-12-21T13:56:56.211491Z"
    },
    "collapsed": false
   },
   "outputs": [
    {
     "name": "stdout",
     "output_type": "stream",
     "text": [
      "[False False  True  True]\n",
      "[False False  True  True]\n",
      "[43 44]\n"
     ]
    }
   ],
   "source": [
    "# Create a filter array that will return only values higher than 42.\n",
    "arr = np.array([41, 42, 43, 44])\n",
    "filter_arr = arr > 42\n",
    "print(filter_arr)\n",
    "new_arr = arr[filter_arr]\n",
    "print(new_arr)"
   ]
  },
  {
   "cell_type": "code",
   "execution_count": 46,
   "id": "87d88219f5fab8fc",
   "metadata": {
    "collapsed": false,
    "ExecuteTime": {
     "end_time": "2023-12-21T14:35:19.251402Z",
     "start_time": "2023-12-21T14:35:19.242715Z"
    }
   },
   "outputs": [
    {
     "name": "stdout",
     "output_type": "stream",
     "text": [
      "[2 4 6]\n"
     ]
    }
   ],
   "source": [
    "# Create a filter array that will return only even elements from the original array.\n",
    "arr = np.array([1, 2, 3, 4, 5, 6, 7])\n",
    "new_arr = arr[arr % 2 == 0]\n",
    "print(new_arr)"
   ]
  }
 ],
 "metadata": {
  "kernelspec": {
   "display_name": "Python 3 (ipykernel)",
   "language": "python",
   "name": "python3"
  },
  "language_info": {
   "codemirror_mode": {
    "name": "ipython",
    "version": 3
   },
   "file_extension": ".py",
   "mimetype": "text/x-python",
   "name": "python",
   "nbconvert_exporter": "python",
   "pygments_lexer": "ipython3",
   "version": "3.9.6"
  }
 },
 "nbformat": 4,
 "nbformat_minor": 5
}
