{
 "cells": [
  {
   "cell_type": "markdown",
   "source": [
    "# Pandas\n",
    "\n",
    "> Source: https://www.w3schools.com/python/pandas"
   ],
   "metadata": {
    "collapsed": false
   },
   "id": "d452a1155b921448"
  },
  {
   "cell_type": "markdown",
   "source": [
    "## Introduction\n",
    "\n",
    "https://www.w3schools.com/python/pandas/pandas_intro.asp\n",
    "\n",
    "## Getting Started\n",
    "\n",
    "https://www.w3schools.com/python/pandas/pandas_getting_started.asp"
   ],
   "metadata": {
    "collapsed": false
   },
   "id": "a20db4de273a375"
  },
  {
   "cell_type": "code",
   "execution_count": 2,
   "outputs": [
    {
     "name": "stdout",
     "output_type": "stream",
     "text": [
      "2.1.4\n"
     ]
    }
   ],
   "source": [
    "import pandas as pd\n",
    "\n",
    "print(pd.__version__)"
   ],
   "metadata": {
    "collapsed": false,
    "ExecuteTime": {
     "end_time": "2023-12-21T16:01:20.968709Z",
     "start_time": "2023-12-21T16:01:20.962319Z"
    }
   },
   "id": "509a499d2758fc1c"
  },
  {
   "cell_type": "code",
   "execution_count": 3,
   "outputs": [
    {
     "name": "stdout",
     "output_type": "stream",
     "text": [
      "    cars  passings\n",
      "0    BMW         3\n",
      "1  Volvo         7\n",
      "2   Ford         2\n"
     ]
    }
   ],
   "source": [
    "my_dataset = {\n",
    "  'cars': [\"BMW\", \"Volvo\", \"Ford\"],\n",
    "  'passings': [3, 7, 2]\n",
    "}\n",
    "my_var = pd.DataFrame(my_dataset)\n",
    "print(my_var)"
   ],
   "metadata": {
    "collapsed": false,
    "ExecuteTime": {
     "end_time": "2023-12-21T16:01:22.874544Z",
     "start_time": "2023-12-21T16:01:22.860155Z"
    }
   },
   "id": "ec50df4e23928641"
  },
  {
   "cell_type": "markdown",
   "source": [
    "## Series\n",
    "\n",
    "* A Pandas Series is like a column in a table.\n",
    "* It is a one-dimensional array holding data of any type."
   ],
   "metadata": {
    "collapsed": false
   },
   "id": "8d88a7b6f29507"
  },
  {
   "cell_type": "code",
   "execution_count": 4,
   "outputs": [
    {
     "name": "stdout",
     "output_type": "stream",
     "text": [
      "0    1\n",
      "1    7\n",
      "2    2\n",
      "dtype: int64\n"
     ]
    }
   ],
   "source": [
    "arr = [1, 7, 2]\n",
    "my_var = pd.Series(arr)\n",
    "print(my_var)"
   ],
   "metadata": {
    "collapsed": false,
    "ExecuteTime": {
     "end_time": "2023-12-21T16:15:33.658132Z",
     "start_time": "2023-12-21T16:15:33.654179Z"
    }
   },
   "id": "6475f5a83cdcac64"
  },
  {
   "cell_type": "markdown",
   "source": [
    "### Labels\n",
    "\n",
    "* If nothing else is specified, the values are labeled with their index number. First value has index 0, second value has index 1 etc.\n",
    "* This label can be used to access a specified value."
   ],
   "metadata": {
    "collapsed": false
   },
   "id": "2a07927d36a028a2"
  },
  {
   "cell_type": "code",
   "execution_count": 5,
   "outputs": [
    {
     "name": "stdout",
     "output_type": "stream",
     "text": [
      "1\n"
     ]
    }
   ],
   "source": [
    "arr = [1, 7, 2]\n",
    "my_var = pd.Series(arr)\n",
    "print(my_var[0])"
   ],
   "metadata": {
    "collapsed": false,
    "ExecuteTime": {
     "end_time": "2023-12-21T16:16:58.159328Z",
     "start_time": "2023-12-21T16:16:58.154805Z"
    }
   },
   "id": "a3c5f17437da2b14"
  },
  {
   "cell_type": "markdown",
   "source": [
    "#### Create Labels\n",
    "\n",
    "* With the index argument, you can name your own labels.\n",
    "* When you have created labels, you can access an item by referring to the label."
   ],
   "metadata": {
    "collapsed": false
   },
   "id": "39b8a88fec6e5b87"
  },
  {
   "cell_type": "code",
   "execution_count": 7,
   "outputs": [
    {
     "name": "stdout",
     "output_type": "stream",
     "text": [
      "x    1\n",
      "y    7\n",
      "z    2\n",
      "dtype: int64\n",
      "7\n"
     ]
    }
   ],
   "source": [
    "a = [1, 7, 2]\n",
    "my_var = pd.Series(a, index = [\"x\", \"y\", \"z\"])\n",
    "print(my_var)\n",
    "print(my_var[\"y\"])"
   ],
   "metadata": {
    "collapsed": false,
    "ExecuteTime": {
     "end_time": "2023-12-21T16:19:36.056319Z",
     "start_time": "2023-12-21T16:19:36.052508Z"
    }
   },
   "id": "56949d5459540174"
  },
  {
   "cell_type": "markdown",
   "source": [
    "### Key/Value Objects as Series\n",
    "\n",
    "> The keys of the dictionary become the labels."
   ],
   "metadata": {
    "collapsed": false
   },
   "id": "3141d51eaa0323d8"
  },
  {
   "cell_type": "code",
   "execution_count": 8,
   "outputs": [
    {
     "name": "stdout",
     "output_type": "stream",
     "text": [
      "day1    420\n",
      "day2    380\n",
      "day3    390\n",
      "dtype: int64\n"
     ]
    }
   ],
   "source": [
    "calories = {\"day1\": 420, \"day2\": 380, \"day3\": 390}\n",
    "my_var = pd.Series(calories)\n",
    "print(my_var)"
   ],
   "metadata": {
    "collapsed": false,
    "ExecuteTime": {
     "end_time": "2023-12-21T16:23:47.477907Z",
     "start_time": "2023-12-21T16:23:47.474241Z"
    }
   },
   "id": "1d72d6dc8192a96e"
  },
  {
   "cell_type": "code",
   "execution_count": null,
   "outputs": [],
   "source": [
    "# To select only some of the items in the dictionary, use the index argument and specify only the items you want to include in the Series.\n",
    "calories = {\"day1\": 420, \"day2\": 380, \"day3\": 390}\n",
    "my_var = pd.Series(calories, index = [\"day1\", \"day2\"])\n",
    "print(my_var)"
   ],
   "metadata": {
    "collapsed": false
   },
   "id": "5bec3299d30a6867"
  },
  {
   "cell_type": "markdown",
   "source": [
    "### DataFrames\n",
    "\n",
    "* Data sets in Pandas are usually multidimensional tables, called DataFrames.\n",
    "* Series is like a column, a DataFrame is the whole table.\n",
    "\n"
   ],
   "metadata": {
    "collapsed": false
   },
   "id": "fe37375b46f4dfac"
  }
 ],
 "metadata": {
  "kernelspec": {
   "display_name": "Python 3",
   "language": "python",
   "name": "python3"
  },
  "language_info": {
   "codemirror_mode": {
    "name": "ipython",
    "version": 2
   },
   "file_extension": ".py",
   "mimetype": "text/x-python",
   "name": "python",
   "nbconvert_exporter": "python",
   "pygments_lexer": "ipython2",
   "version": "2.7.6"
  }
 },
 "nbformat": 4,
 "nbformat_minor": 5
}
